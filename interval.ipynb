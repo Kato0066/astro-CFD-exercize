{
 "cells": [
  {
   "cell_type": "code",
   "execution_count": 1,
   "id": "8aaf36c5-6571-4dd2-90d6-ef87e1fb220f",
   "metadata": {},
   "outputs": [],
   "source": [
    "import numpy as np\n",
    "import matplotlib.pyplot as plt"
   ]
  },
  {
   "cell_type": "code",
   "execution_count": null,
   "id": "2aa3c237-05d1-450b-9f50-3531f15ca424",
   "metadata": {},
   "outputs": [],
   "source": []
  },
  {
   "cell_type": "code",
   "execution_count": null,
   "id": "cc954fc7-638a-4106-8946-6dff20cef6f3",
   "metadata": {},
   "outputs": [],
   "source": []
  },
  {
   "cell_type": "code",
   "execution_count": 2,
   "id": "68589bea-e02f-4b48-9e10-cff8a08774b5",
   "metadata": {},
   "outputs": [
    {
     "data": {
      "text/plain": [
       "\u001b[0;31mSignature:\u001b[0m\n",
       "\u001b[0mnp\u001b[0m\u001b[0;34m.\u001b[0m\u001b[0mlinspace\u001b[0m\u001b[0;34m(\u001b[0m\u001b[0;34m\u001b[0m\n",
       "\u001b[0;34m\u001b[0m    \u001b[0mstart\u001b[0m\u001b[0;34m,\u001b[0m\u001b[0;34m\u001b[0m\n",
       "\u001b[0;34m\u001b[0m    \u001b[0mstop\u001b[0m\u001b[0;34m,\u001b[0m\u001b[0;34m\u001b[0m\n",
       "\u001b[0;34m\u001b[0m    \u001b[0mnum\u001b[0m\u001b[0;34m=\u001b[0m\u001b[0;36m50\u001b[0m\u001b[0;34m,\u001b[0m\u001b[0;34m\u001b[0m\n",
       "\u001b[0;34m\u001b[0m    \u001b[0mendpoint\u001b[0m\u001b[0;34m=\u001b[0m\u001b[0;32mTrue\u001b[0m\u001b[0;34m,\u001b[0m\u001b[0;34m\u001b[0m\n",
       "\u001b[0;34m\u001b[0m    \u001b[0mretstep\u001b[0m\u001b[0;34m=\u001b[0m\u001b[0;32mFalse\u001b[0m\u001b[0;34m,\u001b[0m\u001b[0;34m\u001b[0m\n",
       "\u001b[0;34m\u001b[0m    \u001b[0mdtype\u001b[0m\u001b[0;34m=\u001b[0m\u001b[0;32mNone\u001b[0m\u001b[0;34m,\u001b[0m\u001b[0;34m\u001b[0m\n",
       "\u001b[0;34m\u001b[0m    \u001b[0maxis\u001b[0m\u001b[0;34m=\u001b[0m\u001b[0;36m0\u001b[0m\u001b[0;34m,\u001b[0m\u001b[0;34m\u001b[0m\n",
       "\u001b[0;34m\u001b[0m\u001b[0;34m)\u001b[0m\u001b[0;34m\u001b[0m\u001b[0;34m\u001b[0m\u001b[0m\n",
       "\u001b[0;31mDocstring:\u001b[0m\n",
       "Return evenly spaced numbers over a specified interval.\n",
       "\n",
       "Returns `num` evenly spaced samples, calculated over the\n",
       "interval [`start`, `stop`].\n",
       "\n",
       "The endpoint of the interval can optionally be excluded.\n",
       "\n",
       ".. versionchanged:: 1.16.0\n",
       "    Non-scalar `start` and `stop` are now supported.\n",
       "\n",
       ".. versionchanged:: 1.20.0\n",
       "    Values are rounded towards ``-inf`` instead of ``0`` when an\n",
       "    integer ``dtype`` is specified. The old behavior can\n",
       "    still be obtained with ``np.linspace(start, stop, num).astype(int)``\n",
       "\n",
       "Parameters\n",
       "----------\n",
       "start : array_like\n",
       "    The starting value of the sequence.\n",
       "stop : array_like\n",
       "    The end value of the sequence, unless `endpoint` is set to False.\n",
       "    In that case, the sequence consists of all but the last of ``num + 1``\n",
       "    evenly spaced samples, so that `stop` is excluded.  Note that the step\n",
       "    size changes when `endpoint` is False.\n",
       "num : int, optional\n",
       "    Number of samples to generate. Default is 50. Must be non-negative.\n",
       "endpoint : bool, optional\n",
       "    If True, `stop` is the last sample. Otherwise, it is not included.\n",
       "    Default is True.\n",
       "retstep : bool, optional\n",
       "    If True, return (`samples`, `step`), where `step` is the spacing\n",
       "    between samples.\n",
       "dtype : dtype, optional\n",
       "    The type of the output array.  If `dtype` is not given, the data type\n",
       "    is inferred from `start` and `stop`. The inferred dtype will never be\n",
       "    an integer; `float` is chosen even if the arguments would produce an\n",
       "    array of integers.\n",
       "\n",
       "    .. versionadded:: 1.9.0\n",
       "\n",
       "axis : int, optional\n",
       "    The axis in the result to store the samples.  Relevant only if start\n",
       "    or stop are array-like.  By default (0), the samples will be along a\n",
       "    new axis inserted at the beginning. Use -1 to get an axis at the end.\n",
       "\n",
       "    .. versionadded:: 1.16.0\n",
       "\n",
       "Returns\n",
       "-------\n",
       "samples : ndarray\n",
       "    There are `num` equally spaced samples in the closed interval\n",
       "    ``[start, stop]`` or the half-open interval ``[start, stop)``\n",
       "    (depending on whether `endpoint` is True or False).\n",
       "step : float, optional\n",
       "    Only returned if `retstep` is True\n",
       "\n",
       "    Size of spacing between samples.\n",
       "\n",
       "\n",
       "See Also\n",
       "--------\n",
       "arange : Similar to `linspace`, but uses a step size (instead of the\n",
       "         number of samples).\n",
       "geomspace : Similar to `linspace`, but with numbers spaced evenly on a log\n",
       "            scale (a geometric progression).\n",
       "logspace : Similar to `geomspace`, but with the end points specified as\n",
       "           logarithms.\n",
       "\n",
       "Examples\n",
       "--------\n",
       ">>> np.linspace(2.0, 3.0, num=5)\n",
       "array([2.  , 2.25, 2.5 , 2.75, 3.  ])\n",
       ">>> np.linspace(2.0, 3.0, num=5, endpoint=False)\n",
       "array([2. ,  2.2,  2.4,  2.6,  2.8])\n",
       ">>> np.linspace(2.0, 3.0, num=5, retstep=True)\n",
       "(array([2.  ,  2.25,  2.5 ,  2.75,  3.  ]), 0.25)\n",
       "\n",
       "Graphical illustration:\n",
       "\n",
       ">>> import matplotlib.pyplot as plt\n",
       ">>> N = 8\n",
       ">>> y = np.zeros(N)\n",
       ">>> x1 = np.linspace(0, 10, N, endpoint=True)\n",
       ">>> x2 = np.linspace(0, 10, N, endpoint=False)\n",
       ">>> plt.plot(x1, y, 'o')\n",
       "[<matplotlib.lines.Line2D object at 0x...>]\n",
       ">>> plt.plot(x2, y + 0.5, 'o')\n",
       "[<matplotlib.lines.Line2D object at 0x...>]\n",
       ">>> plt.ylim([-0.5, 1])\n",
       "(-0.5, 1)\n",
       ">>> plt.show()\n",
       "\u001b[0;31mFile:\u001b[0m      ~/opt/anaconda3/lib/python3.8/site-packages/numpy/core/function_base.py\n",
       "\u001b[0;31mType:\u001b[0m      function\n"
      ]
     },
     "metadata": {},
     "output_type": "display_data"
    }
   ],
   "source": [
    "np.linspace?"
   ]
  },
  {
   "cell_type": "code",
   "execution_count": 3,
   "id": "172ec6aa-6324-45af-a497-80ae035716a8",
   "metadata": {},
   "outputs": [
    {
     "data": {
      "text/plain": [
       "array([ 5.        ,  5.30612245,  5.6122449 ,  5.91836735,  6.2244898 ,\n",
       "        6.53061224,  6.83673469,  7.14285714,  7.44897959,  7.75510204,\n",
       "        8.06122449,  8.36734694,  8.67346939,  8.97959184,  9.28571429,\n",
       "        9.59183673,  9.89795918, 10.20408163, 10.51020408, 10.81632653,\n",
       "       11.12244898, 11.42857143, 11.73469388, 12.04081633, 12.34693878,\n",
       "       12.65306122, 12.95918367, 13.26530612, 13.57142857, 13.87755102,\n",
       "       14.18367347, 14.48979592, 14.79591837, 15.10204082, 15.40816327,\n",
       "       15.71428571, 16.02040816, 16.32653061, 16.63265306, 16.93877551,\n",
       "       17.24489796, 17.55102041, 17.85714286, 18.16326531, 18.46938776,\n",
       "       18.7755102 , 19.08163265, 19.3877551 , 19.69387755, 20.        ])"
      ]
     },
     "execution_count": 3,
     "metadata": {},
     "output_type": "execute_result"
    }
   ],
   "source": [
    "np.linspace(5,20,50)"
   ]
  },
  {
   "cell_type": "code",
   "execution_count": 5,
   "id": "c78fb5ad-9cdc-4dca-a4b2-5da3824786b0",
   "metadata": {},
   "outputs": [
    {
     "data": {
      "text/plain": [
       "array([1.00000000e+05, 2.02358965e+05, 4.09491506e+05, 8.28642773e+05,\n",
       "       1.67683294e+06, 3.39322177e+06, 6.86648845e+06, 1.38949549e+07,\n",
       "       2.81176870e+07, 5.68986603e+07, 1.15139540e+08, 2.32995181e+08,\n",
       "       4.71486636e+08, 9.54095476e+08, 1.93069773e+09, 3.90693994e+09,\n",
       "       7.90604321e+09, 1.59985872e+10, 3.23745754e+10, 6.55128557e+10,\n",
       "       1.32571137e+11, 2.68269580e+11, 5.42867544e+11, 1.09854114e+12,\n",
       "       2.22299648e+12, 4.49843267e+12, 9.10298178e+12, 1.84206997e+13,\n",
       "       3.72759372e+13, 7.54312006e+13, 1.52641797e+14, 3.08884360e+14,\n",
       "       6.25055193e+14, 1.26485522e+15, 2.55954792e+15, 5.17947468e+15,\n",
       "       1.04811313e+16, 2.12095089e+16, 4.29193426e+16, 8.68511374e+16,\n",
       "       1.75751062e+17, 3.55648031e+17, 7.19685673e+17, 1.45634848e+18,\n",
       "       2.94705170e+18, 5.96362332e+18, 1.20679264e+19, 2.44205309e+19,\n",
       "       4.94171336e+19, 1.00000000e+20])"
      ]
     },
     "execution_count": 5,
     "metadata": {},
     "output_type": "execute_result"
    }
   ],
   "source": [
    "np.logspace(5,20,50)"
   ]
  },
  {
   "cell_type": "code",
   "execution_count": 4,
   "id": "a72ff780-216f-4b8a-8492-f45287d3deeb",
   "metadata": {},
   "outputs": [],
   "source": [
    "x=np.linspace(0,10,30)"
   ]
  },
  {
   "cell_type": "code",
   "execution_count": 19,
   "id": "6390b899-1d63-4808-9fa1-76d1a5aed4d4",
   "metadata": {},
   "outputs": [],
   "source": [
    "y=np.sqrt(x)"
   ]
  },
  {
   "cell_type": "code",
   "execution_count": 20,
   "id": "2ba1b25c-38cc-4f13-a074-a0ec1f176c4c",
   "metadata": {},
   "outputs": [],
   "source": [
    "e=np.random.normal(0,2.0,30)"
   ]
  },
  {
   "cell_type": "code",
   "execution_count": 21,
   "id": "ec57bc61-618f-48c3-a382-105c8164dbd1",
   "metadata": {},
   "outputs": [],
   "source": [
    "p=np.polyfit(x,y+e,1)"
   ]
  },
  {
   "cell_type": "code",
   "execution_count": 23,
   "id": "a8726782-8cb3-456f-b2d7-b194120d2138",
   "metadata": {},
   "outputs": [
    {
     "data": {
      "text/plain": [
       "[<matplotlib.lines.Line2D at 0x7f997bac6ac0>]"
      ]
     },
     "execution_count": 23,
     "metadata": {},
     "output_type": "execute_result"
    },
    {
     "data": {
      "image/png": "[encoded data removed]",
      "text/plain": [
       "<Figure size 432x288 with 1 Axes>"
      ]
     },
     "metadata": {
      "needs_background": "light"
     },
     "output_type": "display_data"
    }
   ],
   "source": [
    "plt.scatter(x,y+e)\n",
    "plt.plot(x,x+p[0]+p[1])"
   ]
  },
  {
   "cell_type": "code",
   "execution_count": 24,
   "id": "2e36699d-007c-4674-9598-1eddce7e9265",
   "metadata": {},
   "outputs": [
    {
     "data": {
      "text/plain": [
       "\u001b[0;31mSignature:\u001b[0m \u001b[0mnp\u001b[0m\u001b[0;34m.\u001b[0m\u001b[0msinc\u001b[0m\u001b[0;34m(\u001b[0m\u001b[0mx\u001b[0m\u001b[0;34m)\u001b[0m\u001b[0;34m\u001b[0m\u001b[0;34m\u001b[0m\u001b[0m\n",
       "\u001b[0;31mDocstring:\u001b[0m\n",
       "Return the normalized sinc function.\n",
       "\n",
       "The sinc function is :math:`\\sin(\\pi x)/(\\pi x)`.\n",
       "\n",
       ".. note::\n",
       "\n",
       "    Note the normalization factor of ``pi`` used in the definition.\n",
       "    This is the most commonly used definition in signal processing.\n",
       "    Use ``sinc(x / np.pi)`` to obtain the unnormalized sinc function\n",
       "    :math:`\\sin(x)/(x)` that is more common in mathematics.\n",
       "\n",
       "Parameters\n",
       "----------\n",
       "x : ndarray\n",
       "    Array (possibly multi-dimensional) of values for which to to\n",
       "    calculate ``sinc(x)``.\n",
       "\n",
       "Returns\n",
       "-------\n",
       "out : ndarray\n",
       "    ``sinc(x)``, which has the same shape as the input.\n",
       "\n",
       "Notes\n",
       "-----\n",
       "``sinc(0)`` is the limit value 1.\n",
       "\n",
       "The name sinc is short for \"sine cardinal\" or \"sinus cardinalis\".\n",
       "\n",
       "The sinc function is used in various signal processing applications,\n",
       "including in anti-aliasing, in the construction of a Lanczos resampling\n",
       "filter, and in interpolation.\n",
       "\n",
       "For bandlimited interpolation of discrete-time signals, the ideal\n",
       "interpolation kernel is proportional to the sinc function.\n",
       "\n",
       "References\n",
       "----------\n",
       ".. [1] Weisstein, Eric W. \"Sinc Function.\" From MathWorld--A Wolfram Web\n",
       "       Resource. http://mathworld.wolfram.com/SincFunction.html\n",
       ".. [2] Wikipedia, \"Sinc function\",\n",
       "       https://en.wikipedia.org/wiki/Sinc_function\n",
       "\n",
       "Examples\n",
       "--------\n",
       ">>> import matplotlib.pyplot as plt\n",
       ">>> x = np.linspace(-4, 4, 41)\n",
       ">>> np.sinc(x)\n",
       " array([-3.89804309e-17,  -4.92362781e-02,  -8.40918587e-02, # may vary\n",
       "        -8.90384387e-02,  -5.84680802e-02,   3.89804309e-17,\n",
       "        6.68206631e-02,   1.16434881e-01,   1.26137788e-01,\n",
       "        8.50444803e-02,  -3.89804309e-17,  -1.03943254e-01,\n",
       "        -1.89206682e-01,  -2.16236208e-01,  -1.55914881e-01,\n",
       "        3.89804309e-17,   2.33872321e-01,   5.04551152e-01,\n",
       "        7.56826729e-01,   9.35489284e-01,   1.00000000e+00,\n",
       "        9.35489284e-01,   7.56826729e-01,   5.04551152e-01,\n",
       "        2.33872321e-01,   3.89804309e-17,  -1.55914881e-01,\n",
       "       -2.16236208e-01,  -1.89206682e-01,  -1.03943254e-01,\n",
       "       -3.89804309e-17,   8.50444803e-02,   1.26137788e-01,\n",
       "        1.16434881e-01,   6.68206631e-02,   3.89804309e-17,\n",
       "        -5.84680802e-02,  -8.90384387e-02,  -8.40918587e-02,\n",
       "        -4.92362781e-02,  -3.89804309e-17])\n",
       "\n",
       ">>> plt.plot(x, np.sinc(x))\n",
       "[<matplotlib.lines.Line2D object at 0x...>]\n",
       ">>> plt.title(\"Sinc Function\")\n",
       "Text(0.5, 1.0, 'Sinc Function')\n",
       ">>> plt.ylabel(\"Amplitude\")\n",
       "Text(0, 0.5, 'Amplitude')\n",
       ">>> plt.xlabel(\"X\")\n",
       "Text(0.5, 0, 'X')\n",
       ">>> plt.show()\n",
       "\u001b[0;31mFile:\u001b[0m      ~/opt/anaconda3/lib/python3.8/site-packages/numpy/lib/function_base.py\n",
       "\u001b[0;31mType:\u001b[0m      function\n"
      ]
     },
     "metadata": {},
     "output_type": "display_data"
    }
   ],
   "source": [
    "np.sinc?"
   ]
  },
  {
   "cell_type": "code",
   "execution_count": 25,
   "id": "c6725a18-6805-41b0-9a8f-b49abf51ce4f",
   "metadata": {},
   "outputs": [
    {
     "data": {
      "text/plain": [
       "array([ 1.00000000e+00,  8.15568793e-01,  3.82019307e-01, -3.32681740e-02,\n",
       "       -2.14384294e-01, -1.40710156e-01,  3.30731546e-02,  1.27064531e-01,\n",
       "        7.93518070e-02, -3.27496464e-02, -9.10938250e-02, -5.07850466e-02,\n",
       "        3.22999226e-02,  7.09034512e-02,  3.39933628e-02, -3.17271387e-02,\n",
       "       -5.76090541e-02, -2.27999454e-02,  3.10353063e-02,  4.79441184e-02,\n",
       "        1.47373409e-02, -3.02292598e-02, -4.04296235e-02, -8.62777945e-03,\n",
       "        2.93146158e-02,  3.43014870e-02,  3.83863547e-03, -2.82977264e-02,\n",
       "       -2.91274569e-02, -3.89817183e-17])"
      ]
     },
     "execution_count": 25,
     "metadata": {},
     "output_type": "execute_result"
    }
   ],
   "source": [
    "np.sinc(x)"
   ]
  },
  {
   "cell_type": "code",
   "execution_count": 26,
   "id": "cab50103-060d-4e77-bcda-cfb52050e531",
   "metadata": {},
   "outputs": [
    {
     "data": {
      "text/plain": [
       "[<matplotlib.lines.Line2D at 0x7f997bc75700>]"
      ]
     },
     "execution_count": 26,
     "metadata": {},
     "output_type": "execute_result"
    },
    {
     "data": {
      "image/png": "[encoded data removed]",
      "text/plain": [
       "<Figure size 432x288 with 1 Axes>"
      ]
     },
     "metadata": {
      "needs_background": "light"
     },
     "output_type": "display_data"
    }
   ],
   "source": [
    "plt.plot(x,np.sinc(x))"
   ]
  },
  {
   "cell_type": "code",
   "execution_count": 27,
   "id": "1dcd796f-275c-4d47-b946-70a8963cfa84",
   "metadata": {},
   "outputs": [
    {
     "data": {
      "text/plain": [
       "[<matplotlib.lines.Line2D at 0x7f997bab6d00>]"
      ]
     },
     "execution_count": 27,
     "metadata": {},
     "output_type": "execute_result"
    },
    {
     "data": {
      "image/png": "[encoded data removed]",
      "text/plain": [
       "<Figure size 432x288 with 1 Axes>"
      ]
     },
     "metadata": {
      "needs_background": "light"
     },
     "output_type": "display_data"
    }
   ],
   "source": [
    "plt.plot(np.sinc(x))"
   ]
  },
  {
   "cell_type": "code",
   "execution_count": 50,
   "id": "f2e52bd7-435e-4a3c-8784-75e6248f37a2",
   "metadata": {},
   "outputs": [
    {
     "data": {
      "text/plain": [
       "Text(0.5, 0, 'x')"
      ]
     },
     "execution_count": 50,
     "metadata": {},
     "output_type": "execute_result"
    },
    {
     "data": {
      "image/png": "[encoded data removed]",
      "text/plain": [
       "<Figure size 432x288 with 2 Axes>"
      ]
     },
     "metadata": {
      "needs_background": "light"
     },
     "output_type": "display_data"
    }
   ],
   "source": [
    "x=np.linspace(-10,10,50)\n",
    "y=x.copy()\n",
    "xx,yy=np.meshgrid(x,y)\n",
    "plt.pcolormesh(x,y,3*np.sinc(xx)+np.sinc(yy),shading='auto')\n",
    "plt.colorbar()\n",
    "plt.xlabel('x')"
   ]
  },
  {
   "cell_type": "code",
   "execution_count": 58,
   "id": "5b55b491-314a-43bd-af2a-f4e0d8518392",
   "metadata": {},
   "outputs": [
    {
     "data": {
      "text/plain": [
       "<matplotlib.colorbar.Colorbar at 0x7f997c9334c0>"
      ]
     },
     "execution_count": 58,
     "metadata": {},
     "output_type": "execute_result"
    },
    {
     "data": {
      "image/png": "[encoded data removed]",
      "text/plain": [
       "<Figure size 432x288 with 2 Axes>"
      ]
     },
     "metadata": {
      "needs_background": "light"
     },
     "output_type": "display_data"
    }
   ],
   "source": [
    "plt.imshow(3*np.sinc(xx)+np.sinc(yy),origin='lower',extent=(-10,10,-10,10,))\n",
    "plt.colorbar()"
   ]
  },
  {
   "cell_type": "code",
   "execution_count": 56,
   "id": "4c315b60-d0fa-4fc9-9d7a-81d62fa06636",
   "metadata": {},
   "outputs": [
    {
     "data": {
      "text/plain": [
       "\u001b[0;31mSignature:\u001b[0m\n",
       "\u001b[0mplt\u001b[0m\u001b[0;34m.\u001b[0m\u001b[0mimshow\u001b[0m\u001b[0;34m(\u001b[0m\u001b[0;34m\u001b[0m\n",
       "\u001b[0;34m\u001b[0m    \u001b[0mX\u001b[0m\u001b[0;34m,\u001b[0m\u001b[0;34m\u001b[0m\n",
       "\u001b[0;34m\u001b[0m    \u001b[0mcmap\u001b[0m\u001b[0;34m=\u001b[0m\u001b[0;32mNone\u001b[0m\u001b[0;34m,\u001b[0m\u001b[0;34m\u001b[0m\n",
       "\u001b[0;34m\u001b[0m    \u001b[0mnorm\u001b[0m\u001b[0;34m=\u001b[0m\u001b[0;32mNone\u001b[0m\u001b[0;34m,\u001b[0m\u001b[0;34m\u001b[0m\n",
       "\u001b[0;34m\u001b[0m    \u001b[0maspect\u001b[0m\u001b[0;34m=\u001b[0m\u001b[0;32mNone\u001b[0m\u001b[0;34m,\u001b[0m\u001b[0;34m\u001b[0m\n",
       "\u001b[0;34m\u001b[0m    \u001b[0minterpolation\u001b[0m\u001b[0;34m=\u001b[0m\u001b[0;32mNone\u001b[0m\u001b[0;34m,\u001b[0m\u001b[0;34m\u001b[0m\n",
       "\u001b[0;34m\u001b[0m    \u001b[0malpha\u001b[0m\u001b[0;34m=\u001b[0m\u001b[0;32mNone\u001b[0m\u001b[0;34m,\u001b[0m\u001b[0;34m\u001b[0m\n",
       "\u001b[0;34m\u001b[0m    \u001b[0mvmin\u001b[0m\u001b[0;34m=\u001b[0m\u001b[0;32mNone\u001b[0m\u001b[0;34m,\u001b[0m\u001b[0;34m\u001b[0m\n",
       "\u001b[0;34m\u001b[0m    \u001b[0mvmax\u001b[0m\u001b[0;34m=\u001b[0m\u001b[0;32mNone\u001b[0m\u001b[0;34m,\u001b[0m\u001b[0;34m\u001b[0m\n",
       "\u001b[0;34m\u001b[0m    \u001b[0morigin\u001b[0m\u001b[0;34m=\u001b[0m\u001b[0;32mNone\u001b[0m\u001b[0;34m,\u001b[0m\u001b[0;34m\u001b[0m\n",
       "\u001b[0;34m\u001b[0m    \u001b[0mextent\u001b[0m\u001b[0;34m=\u001b[0m\u001b[0;32mNone\u001b[0m\u001b[0;34m,\u001b[0m\u001b[0;34m\u001b[0m\n",
       "\u001b[0;34m\u001b[0m    \u001b[0;34m*\u001b[0m\u001b[0;34m,\u001b[0m\u001b[0;34m\u001b[0m\n",
       "\u001b[0;34m\u001b[0m    \u001b[0mfilternorm\u001b[0m\u001b[0;34m=\u001b[0m\u001b[0;32mTrue\u001b[0m\u001b[0;34m,\u001b[0m\u001b[0;34m\u001b[0m\n",
       "\u001b[0;34m\u001b[0m    \u001b[0mfilterrad\u001b[0m\u001b[0;34m=\u001b[0m\u001b[0;36m4.0\u001b[0m\u001b[0;34m,\u001b[0m\u001b[0;34m\u001b[0m\n",
       "\u001b[0;34m\u001b[0m    \u001b[0mresample\u001b[0m\u001b[0;34m=\u001b[0m\u001b[0;32mNone\u001b[0m\u001b[0;34m,\u001b[0m\u001b[0;34m\u001b[0m\n",
       "\u001b[0;34m\u001b[0m    \u001b[0murl\u001b[0m\u001b[0;34m=\u001b[0m\u001b[0;32mNone\u001b[0m\u001b[0;34m,\u001b[0m\u001b[0;34m\u001b[0m\n",
       "\u001b[0;34m\u001b[0m    \u001b[0mdata\u001b[0m\u001b[0;34m=\u001b[0m\u001b[0;32mNone\u001b[0m\u001b[0;34m,\u001b[0m\u001b[0;34m\u001b[0m\n",
       "\u001b[0;34m\u001b[0m    \u001b[0;34m**\u001b[0m\u001b[0mkwargs\u001b[0m\u001b[0;34m,\u001b[0m\u001b[0;34m\u001b[0m\n",
       "\u001b[0;34m\u001b[0m\u001b[0;34m)\u001b[0m\u001b[0;34m\u001b[0m\u001b[0;34m\u001b[0m\u001b[0m\n",
       "\u001b[0;31mDocstring:\u001b[0m\n",
       "Display data as an image, i.e., on a 2D regular raster.\n",
       "\n",
       "The input may either be actual RGB(A) data, or 2D scalar data, which\n",
       "will be rendered as a pseudocolor image. For displaying a grayscale\n",
       "image set up the color mapping using the parameters\n",
       "``cmap='gray', vmin=0, vmax=255``.\n",
       "\n",
       "The number of pixels used to render an image is set by the axes size\n",
       "and the *dpi* of the figure. This can lead to aliasing artifacts when\n",
       "the image is resampled because the displayed image size will usually\n",
       "not match the size of *X* (see\n",
       ":doc:`/gallery/images_contours_and_fields/image_antialiasing`).\n",
       "The resampling can be controlled via the *interpolation* parameter\n",
       "and/or :rc:`image.interpolation`.\n",
       "\n",
       "Parameters\n",
       "----------\n",
       "X : array-like or PIL image\n",
       "    The image data. Supported array shapes are:\n",
       "\n",
       "    - (M, N): an image with scalar data. The values are mapped to\n",
       "      colors using normalization and a colormap. See parameters *norm*,\n",
       "      *cmap*, *vmin*, *vmax*.\n",
       "    - (M, N, 3): an image with RGB values (0-1 float or 0-255 int).\n",
       "    - (M, N, 4): an image with RGBA values (0-1 float or 0-255 int),\n",
       "      i.e. including transparency.\n",
       "\n",
       "    The first two dimensions (M, N) define the rows and columns of\n",
       "    the image.\n",
       "\n",
       "    Out-of-range RGB(A) values are clipped.\n",
       "\n",
       "cmap : str or `~matplotlib.colors.Colormap`, default: :rc:`image.cmap`\n",
       "    The Colormap instance or registered colormap name used to map\n",
       "    scalar data to colors. This parameter is ignored for RGB(A) data.\n",
       "\n",
       "norm : `~matplotlib.colors.Normalize`, optional\n",
       "    The `.Normalize` instance used to scale scalar data to the [0, 1]\n",
       "    range before mapping to colors using *cmap*. By default, a linear\n",
       "    scaling mapping the lowest value to 0 and the highest to 1 is used.\n",
       "    This parameter is ignored for RGB(A) data.\n",
       "\n",
       "aspect : {'equal', 'auto'} or float, default: :rc:`image.aspect`\n",
       "    The aspect ratio of the axes.  This parameter is particularly\n",
       "    relevant for images since it determines whether data pixels are\n",
       "    square.\n",
       "\n",
       "    This parameter is a shortcut for explicitly calling\n",
       "    `.Axes.set_aspect`. See there for further details.\n",
       "\n",
       "    - 'equal': Ensures an aspect ratio of 1. Pixels will be square\n",
       "      (unless pixel sizes are explicitly made non-square in data\n",
       "      coordinates using *extent*).\n",
       "    - 'auto': The axes is kept fixed and the aspect is adjusted so\n",
       "      that the data fit in the axes. In general, this will result in\n",
       "      non-square pixels.\n",
       "\n",
       "interpolation : str, default: :rc:`image.interpolation`\n",
       "    The interpolation method used.\n",
       "\n",
       "    Supported values are 'none', 'antialiased', 'nearest', 'bilinear',\n",
       "    'bicubic', 'spline16', 'spline36', 'hanning', 'hamming', 'hermite',\n",
       "    'kaiser', 'quadric', 'catrom', 'gaussian', 'bessel', 'mitchell',\n",
       "    'sinc', 'lanczos'.\n",
       "\n",
       "    If *interpolation* is 'none', then no interpolation is performed\n",
       "    on the Agg, ps, pdf and svg backends. Other backends will fall back\n",
       "    to 'nearest'. Note that most SVG renderers perform interpolation at\n",
       "    rendering and that the default interpolation method they implement\n",
       "    may differ.\n",
       "\n",
       "    If *interpolation* is the default 'antialiased', then 'nearest'\n",
       "    interpolation is used if the image is upsampled by more than a\n",
       "    factor of three (i.e. the number of display pixels is at least\n",
       "    three times the size of the data array).  If the upsampling rate is\n",
       "    smaller than 3, or the image is downsampled, then 'hanning'\n",
       "    interpolation is used to act as an anti-aliasing filter, unless the\n",
       "    image happens to be upsampled by exactly a factor of two or one.\n",
       "\n",
       "    See\n",
       "    :doc:`/gallery/images_contours_and_fields/interpolation_methods`\n",
       "    for an overview of the supported interpolation methods, and\n",
       "    :doc:`/gallery/images_contours_and_fields/image_antialiasing` for\n",
       "    a discussion of image antialiasing.\n",
       "\n",
       "    Some interpolation methods require an additional radius parameter,\n",
       "    which can be set by *filterrad*. Additionally, the antigrain image\n",
       "    resize filter is controlled by the parameter *filternorm*.\n",
       "\n",
       "alpha : float or array-like, optional\n",
       "    The alpha blending value, between 0 (transparent) and 1 (opaque).\n",
       "    If *alpha* is an array, the alpha blending values are applied pixel\n",
       "    by pixel, and *alpha* must have the same shape as *X*.\n",
       "\n",
       "vmin, vmax : float, optional\n",
       "    When using scalar data and no explicit *norm*, *vmin* and *vmax*\n",
       "    define the data range that the colormap covers. By default,\n",
       "    the colormap covers the complete value range of the supplied\n",
       "    data. It is deprecated to use *vmin*/*vmax* when *norm* is given.\n",
       "\n",
       "origin : {'upper', 'lower'}, default: :rc:`image.origin`\n",
       "    Place the [0, 0] index of the array in the upper left or lower\n",
       "    left corner of the axes. The convention (the default) 'upper' is\n",
       "    typically used for matrices and images.\n",
       "\n",
       "    Note that the vertical axes points upward for 'lower'\n",
       "    but downward for 'upper'.\n",
       "\n",
       "    See the :doc:`/tutorials/intermediate/imshow_extent` tutorial for\n",
       "    examples and a more detailed description.\n",
       "\n",
       "extent : floats (left, right, bottom, top), optional\n",
       "    The bounding box in data coordinates that the image will fill.\n",
       "    The image is stretched individually along x and y to fill the box.\n",
       "\n",
       "    The default extent is determined by the following conditions.\n",
       "    Pixels have unit size in data coordinates. Their centers are on\n",
       "    integer coordinates, and their center coordinates range from 0 to\n",
       "    columns-1 horizontally and from 0 to rows-1 vertically.\n",
       "\n",
       "    Note that the direction of the vertical axis and thus the default\n",
       "    values for top and bottom depend on *origin*:\n",
       "\n",
       "    - For ``origin == 'upper'`` the default is\n",
       "      ``(-0.5, numcols-0.5, numrows-0.5, -0.5)``.\n",
       "    - For ``origin == 'lower'`` the default is\n",
       "      ``(-0.5, numcols-0.5, -0.5, numrows-0.5)``.\n",
       "\n",
       "    See the :doc:`/tutorials/intermediate/imshow_extent` tutorial for\n",
       "    examples and a more detailed description.\n",
       "\n",
       "filternorm : bool, default: True\n",
       "    A parameter for the antigrain image resize filter (see the\n",
       "    antigrain documentation).  If *filternorm* is set, the filter\n",
       "    normalizes integer values and corrects the rounding errors. It\n",
       "    doesn't do anything with the source floating point values, it\n",
       "    corrects only integers according to the rule of 1.0 which means\n",
       "    that any sum of pixel weights must be equal to 1.0.  So, the\n",
       "    filter function must produce a graph of the proper shape.\n",
       "\n",
       "filterrad : float > 0, default: 4.0\n",
       "    The filter radius for filters that have a radius parameter, i.e.\n",
       "    when interpolation is one of: 'sinc', 'lanczos' or 'blackman'.\n",
       "\n",
       "resample : bool, default: :rc:`image.resample`\n",
       "    When *True*, use a full resampling method.  When *False*, only\n",
       "    resample when the output image is larger than the input image.\n",
       "\n",
       "url : str, optional\n",
       "    Set the url of the created `.AxesImage`. See `.Artist.set_url`.\n",
       "\n",
       "Returns\n",
       "-------\n",
       "`~matplotlib.image.AxesImage`\n",
       "\n",
       "Other Parameters\n",
       "----------------\n",
       "**kwargs : `~matplotlib.artist.Artist` properties\n",
       "    These parameters are passed on to the constructor of the\n",
       "    `.AxesImage` artist.\n",
       "\n",
       "See Also\n",
       "--------\n",
       "matshow : Plot a matrix or an array as an image.\n",
       "\n",
       "Notes\n",
       "-----\n",
       "Unless *extent* is used, pixel centers will be located at integer\n",
       "coordinates. In other words: the origin will coincide with the center\n",
       "of pixel (0, 0).\n",
       "\n",
       "There are two common representations for RGB images with an alpha\n",
       "channel:\n",
       "\n",
       "-   Straight (unassociated) alpha: R, G, and B channels represent the\n",
       "    color of the pixel, disregarding its opacity.\n",
       "-   Premultiplied (associated) alpha: R, G, and B channels represent\n",
       "    the color of the pixel, adjusted for its opacity by multiplication.\n",
       "\n",
       "`~matplotlib.pyplot.imshow` expects RGB images adopting the straight\n",
       "(unassociated) alpha representation.\n",
       "\n",
       ".. note::\n",
       "    In addition to the above described arguments, this function can take\n",
       "    a *data* keyword argument. If such a *data* argument is given,\n",
       "    every other argument can also be string ``s``, which is\n",
       "    interpreted as ``data[s]`` (unless this raises an exception).\n",
       "\n",
       "    Objects passed as **data** must support item access (``data[s]``) and\n",
       "    membership test (``s in data``).\n",
       "\u001b[0;31mFile:\u001b[0m      ~/opt/anaconda3/lib/python3.8/site-packages/matplotlib/pyplot.py\n",
       "\u001b[0;31mType:\u001b[0m      function\n"
      ]
     },
     "metadata": {},
     "output_type": "display_data"
    }
   ],
   "source": [
    "plt.imshow?"
   ]
  },
  {
   "cell_type": "code",
   "execution_count": null,
   "id": "3387a351-10c1-4a82-bd7f-308b14a4f3f2",
   "metadata": {},
   "outputs": [],
   "source": []
  }
 ],
 "metadata": {
  "kernelspec": {
   "display_name": "Python 3",
   "language": "python",
   "name": "python3"
  },
  "language_info": {
   "codemirror_mode": {
    "name": "ipython",
    "version": 3
   },
   "file_extension": ".py",
   "mimetype": "text/x-python",
   "name": "python",
   "nbconvert_exporter": "python",
   "pygments_lexer": "ipython3",
   "version": "3.8.8"
  },
  "toc-autonumbering": false
 },
 "nbformat": 4,
 "nbformat_minor": 5
}
