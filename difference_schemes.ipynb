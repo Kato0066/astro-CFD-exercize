{
 "cells": [
  {
   "cell_type": "code",
   "execution_count": 1,
   "id": "387c8185-6834-4511-a88c-1a3865144685",
   "metadata": {},
   "outputs": [],
   "source": [
    "import numpy as np\n",
    "import matplotlib.pyplot as plt"
   ]
  },
  {
   "cell_type": "code",
   "execution_count": 2,
   "id": "a07f73fa-3cb9-47f5-bbd4-6fd04f4a9ae1",
   "metadata": {},
   "outputs": [],
   "source": [
    "# Grid\n",
    "nx = 101\n",
    "xl, xr = 0., 101.\n",
    "dx = (xr - xl) / nx\n",
    "\n",
    "# Courant number\n",
    "nu = 0.25\n",
    "\n",
    "# Advection speed(constant)\n",
    "c = 1.\n",
    "\n",
    "# Scheme\n",
    "# 'ftcs', 'lf','lw','upwind'\n",
    "scheme = 'upwind'\n",
    "\n",
    "# Output dir\n",
    "out_dir = 'upwind'\n",
    "\n",
    "nghost = 1\n",
    "nxt = nx + 2 * nghost\n",
    "dt = nu * dx / c\n",
    "t = 0.\n",
    "t_end = 10\n",
    "nstep = 0\n",
    "n_output = 2"
   ]
  },
  {
   "cell_type": "code",
   "execution_count": 3,
   "id": "c256f1ff-193e-4dcc-add8-379023d26216",
   "metadata": {},
   "outputs": [],
   "source": [
    "# Initialnl grid\n",
    "x = np.linspace(xl-1, xr+1, nxt)"
   ]
  },
  {
   "cell_type": "code",
   "execution_count": 4,
   "id": "d8b0f852-fe01-404e-877c-920e1772fdf9",
   "metadata": {},
   "outputs": [],
   "source": [
    "# Initial conditions\n",
    "u = np.where(x<50.,1.,0.)"
   ]
  },
  {
   "cell_type": "code",
   "execution_count": 5,
   "id": "6d000b2d-484c-4d4b-8c5c-4f4401976fd3",
   "metadata": {},
   "outputs": [],
   "source": [
    "# Time integrtion loop\n",
    "while t < t_end:\n",
    "    \n",
    "    # Set boundary condition\n",
    "    u[0]=u[1]\n",
    "    u[nxt-1]=u[nxt - 2]\n",
    "    \n",
    "    # Calucurate new solution. Create left,right, and inner arrays to construct central differences\n",
    "    u_right= u[nghost+1:]\n",
    "    u_left = u[:-nghost-1]\n",
    "    u_inner = u[nghost:-nghost]\n",
    "    \n",
    "    # Caluculation new solution. One timestep in selected scheme.\n",
    "    if scheme == 'ftcs':\n",
    "        u_new_inner = u_inner - 0.5 * nu * (u_right - u_left)\n",
    "    \n",
    "    elif scheme == 'upwind':\n",
    "        u_new_inner = u_inner - nu * (u_inner - u_left)\n",
    "        \n",
    "    elif scheme == 'lf':\n",
    "        u_new_inner = 0.5 * (u_right + u_left) - 0.5 * nu * (u_right - u_left)\n",
    "        \n",
    "    elif scheme == 'lw':\n",
    "        u_new_inner = u_inner - 0.5 * nu * (u_right - u_left) + 0.5 * nu * nu * (u_right - 2 * u_inner + u_left)\n",
    "        \n",
    "    else:\n",
    "        print('Error: unknown scheme. Exiting.')\n",
    "        exit()\n",
    "\n",
    "    # Create a copy so that we can still use a u_new_inner\n",
    "    u_inner = u_new_inner.copy()\n",
    "    \n",
    "    # Expand u\n",
    "    u = np.concatenate(([u_inner[0]],u_inner,[u_inner[-1]]))\n",
    "\n",
    "    # Update time\n",
    "    t = t + dt\n",
    "    nstep = nstep + 1\n",
    "    \n",
    "    # 1/0\n",
    "    if nstep % n_output == 0:\n",
    "        u_inner.tofile(f'{out_dir}/{scheme}-{int(nstep/n_output):0>4d}.dat')\n",
    "       "
   ]
  },
  {
   "cell_type": "code",
   "execution_count": null,
   "id": "695df0e9-3b11-4cb6-b064-1747b60fe037",
   "metadata": {},
   "outputs": [],
   "source": []
  }
 ],
 "metadata": {
  "kernelspec": {
   "display_name": "Python 3",
   "language": "python",
   "name": "python3"
  },
  "language_info": {
   "codemirror_mode": {
    "name": "ipython",
    "version": 3
   },
   "file_extension": ".py",
   "mimetype": "text/x-python",
   "name": "python",
   "nbconvert_exporter": "python",
   "pygments_lexer": "ipython3",
   "version": "3.8.8"
  }
 },
 "nbformat": 4,
 "nbformat_minor": 5
}
